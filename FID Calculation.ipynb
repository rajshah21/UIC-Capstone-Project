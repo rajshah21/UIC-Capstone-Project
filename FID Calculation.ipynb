{
 "cells": [
  {
   "cell_type": "markdown",
   "metadata": {},
   "source": [
    "# Calculating FID Score for Merge LoRA model for Flat-Tire Damage only.\n",
    "\n",
    "If you want to generate images or calculate FID score for other damages or multiple damages, change the \"adapter_weights\" parameter in function \"geberate_images\" according to your requirement."
   ]
  },
  {
   "cell_type": "code",
   "execution_count": 1,
   "metadata": {},
   "outputs": [
    {
     "name": "stderr",
     "output_type": "stream",
     "text": [
      "c:\\Users\\Raj\\AppData\\Local\\Programs\\Python\\Python312\\Lib\\site-packages\\tqdm\\auto.py:21: TqdmWarning: IProgress not found. Please update jupyter and ipywidgets. See https://ipywidgets.readthedocs.io/en/stable/user_install.html\n",
      "  from .autonotebook import tqdm as notebook_tqdm\n"
     ]
    }
   ],
   "source": [
    "import os\n",
    "from diffusers import DiffusionPipeline\n",
    "from tqdm import tqdm\n",
    "\n",
    "\n",
    "def generate_images(num_images, prompt, output_dir, start):\n",
    "    \n",
    "    #Loading the Diffusion Model\n",
    "    pipe = DiffusionPipeline.from_pretrained(\"runwayml/stable-diffusion-v1-5\").to('cuda')\n",
    "\n",
    "    #Loading Flat Tire LoRA\n",
    "    pipe.load_lora_weights('IDS-560-Group-3/stable-diffusion-flat-tire-lora-v2', weight_name='pytorch_lora_weights.safetensors', adapter_name='flat-tire')\n",
    "\n",
    "    #Loading Scratches LoRA\n",
    "    pipe.load_lora_weights('IDS-560-Group-3/stable-diffusion-scratches-lora-v3', weight_name='pytorch_lora_weights.safetensors', adapter_name='scratches')\n",
    "\n",
    "    #Loading Dents LoRA\n",
    "    pipe.load_lora_weights('IDS-560-Group-3/stable-diffusion-dents-lora-v3', weight_name='pytorch_lora_weights.safetensors', adapter_name='dents')\n",
    "\n",
    "    #Loading Glass Shatter LoRA\n",
    "    pipe.load_lora_weights('IDS-560-Group-3/stable-diffusion-glass-shatter-lora-v3', weight_name='pytorch_lora_weights.safetensors', adapter_name='glass-shatter')\n",
    "\n",
    "    #Specifying Adapter Weights\n",
    "    pipe.set_adapters(['flat-tire','scratches','dents','glass-shatter'], adapter_weights=[0.9,0.1,0.1,0.1])\n",
    "\n",
    "    #Output Directory\n",
    "    if not os.path.exists(output_dir):\n",
    "        os.makedirs(output_dir)\n",
    "\n",
    "    for i in tqdm(range(num_images)):\n",
    "        image = pipe(prompt).images[0]\n",
    "        image_path = os.path.join(output_dir, f'flat-tire-generated-{start+i}.png')\n",
    "        image.save(image_path)\n",
    "\n",
    "    "
   ]
  },
  {
   "cell_type": "markdown",
   "metadata": {},
   "source": [
    "# Generating Multiple images for same prompt"
   ]
  },
  {
   "cell_type": "code",
   "execution_count": 2,
   "metadata": {},
   "outputs": [
    {
     "name": "stderr",
     "output_type": "stream",
     "text": [
      "Loading pipeline components...: 100%|██████████| 7/7 [00:00<00:00,  8.73it/s]\n",
      "c:\\Users\\Raj\\AppData\\Local\\Programs\\Python\\Python312\\Lib\\site-packages\\huggingface_hub\\file_download.py:147: UserWarning: `huggingface_hub` cache-system uses symlinks by default to efficiently store duplicated files but your machine does not support them in C:\\Users\\Raj\\.cache\\huggingface\\hub\\models--IDS-560-Group-3--stable-diffusion-scratches-lora-v3. Caching files will still work but in a degraded version that might require more space on your disk. This warning can be disabled by setting the `HF_HUB_DISABLE_SYMLINKS_WARNING` environment variable. For more details, see https://huggingface.co/docs/huggingface_hub/how-to-cache#limitations.\n",
      "To support symlinks on Windows, you either need to activate Developer Mode or to run Python as an administrator. In order to activate developer mode, see this article: https://docs.microsoft.com/en-us/windows/apps/get-started/enable-your-device-for-development\n",
      "  warnings.warn(message)\n",
      "c:\\Users\\Raj\\AppData\\Local\\Programs\\Python\\Python312\\Lib\\site-packages\\huggingface_hub\\file_download.py:147: UserWarning: `huggingface_hub` cache-system uses symlinks by default to efficiently store duplicated files but your machine does not support them in C:\\Users\\Raj\\.cache\\huggingface\\hub\\models--IDS-560-Group-3--stable-diffusion-glass-shatter-lora-v3. Caching files will still work but in a degraded version that might require more space on your disk. This warning can be disabled by setting the `HF_HUB_DISABLE_SYMLINKS_WARNING` environment variable. For more details, see https://huggingface.co/docs/huggingface_hub/how-to-cache#limitations.\n",
      "To support symlinks on Windows, you either need to activate Developer Mode or to run Python as an administrator. In order to activate developer mode, see this article: https://docs.microsoft.com/en-us/windows/apps/get-started/enable-your-device-for-development\n",
      "  warnings.warn(message)\n",
      "  0%|          | 0/36 [00:00<?, ?it/s]c:\\Users\\Raj\\AppData\\Local\\Programs\\Python\\Python312\\Lib\\site-packages\\diffusers\\models\\attention_processor.py:2367: UserWarning: 1Torch was not compiled with flash attention. (Triggered internally at C:\\actions-runner\\_work\\pytorch\\pytorch\\builder\\windows\\pytorch\\aten\\src\\ATen\\native\\transformers\\cuda\\sdp_utils.cpp:555.)\n",
      "  hidden_states = F.scaled_dot_product_attention(\n",
      "100%|██████████| 50/50 [00:23<00:00,  2.13it/s]\n",
      "100%|██████████| 50/50 [00:22<00:00,  2.20it/s]\n",
      "100%|██████████| 50/50 [00:22<00:00,  2.20it/s]\n",
      "100%|██████████| 50/50 [00:22<00:00,  2.20it/s]\n",
      "100%|██████████| 50/50 [00:22<00:00,  2.19it/s]\n",
      "100%|██████████| 50/50 [00:22<00:00,  2.19it/s]\n",
      "100%|██████████| 50/50 [00:22<00:00,  2.19it/s]\n",
      "100%|██████████| 50/50 [00:22<00:00,  2.18it/s]\n",
      "100%|██████████| 50/50 [00:22<00:00,  2.18it/s]\n",
      "100%|██████████| 50/50 [00:22<00:00,  2.19it/s]\n",
      "100%|██████████| 50/50 [00:22<00:00,  2.19it/s]\n",
      "100%|██████████| 50/50 [00:22<00:00,  2.19it/s]\n",
      "100%|██████████| 50/50 [00:22<00:00,  2.19it/s]\n",
      "100%|██████████| 50/50 [00:23<00:00,  2.15it/s]\n",
      "100%|██████████| 50/50 [00:22<00:00,  2.19it/s]\n",
      "100%|██████████| 50/50 [00:22<00:00,  2.18it/s]\n",
      "100%|██████████| 50/50 [00:22<00:00,  2.18it/s]\n",
      "100%|██████████| 50/50 [00:22<00:00,  2.18it/s]\n",
      "100%|██████████| 50/50 [00:22<00:00,  2.18it/s]\n",
      "100%|██████████| 50/50 [00:22<00:00,  2.18it/s]\n",
      "100%|██████████| 50/50 [00:22<00:00,  2.18it/s]\n",
      "100%|██████████| 50/50 [00:23<00:00,  2.16it/s]\n",
      "100%|██████████| 50/50 [00:23<00:00,  2.14it/s]\n",
      "100%|██████████| 50/50 [00:23<00:00,  2.15it/s]\n",
      "100%|██████████| 50/50 [00:23<00:00,  2.16it/s]\n",
      "100%|██████████| 50/50 [00:23<00:00,  2.17it/s]\n",
      "100%|██████████| 50/50 [00:22<00:00,  2.18it/s]\n",
      "100%|██████████| 50/50 [00:23<00:00,  2.17it/s]\n",
      "100%|██████████| 50/50 [00:23<00:00,  2.17it/s]\n",
      "100%|██████████| 50/50 [00:23<00:00,  2.17it/s]\n",
      "100%|██████████| 50/50 [00:23<00:00,  2.17it/s]\n",
      "100%|██████████| 50/50 [00:23<00:00,  2.17it/s]\n",
      "100%|██████████| 50/50 [00:23<00:00,  2.17it/s]\n",
      "100%|██████████| 50/50 [00:22<00:00,  2.18it/s]\n",
      "100%|██████████| 50/50 [00:22<00:00,  2.17it/s]\n",
      "100%|██████████| 50/50 [00:22<00:00,  2.17it/s]\n",
      "100%|██████████| 36/36 [20:07<00:00, 33.55s/it]\n"
     ]
    }
   ],
   "source": [
    "generate_images(36,prompt='a car with front flat tire.',output_dir='./Output/Flat-Tire-FID',start=0)"
   ]
  },
  {
   "cell_type": "code",
   "execution_count": 3,
   "metadata": {},
   "outputs": [
    {
     "name": "stderr",
     "output_type": "stream",
     "text": [
      "Loading pipeline components...: 100%|██████████| 7/7 [00:01<00:00,  6.51it/s]\n",
      "100%|██████████| 50/50 [00:33<00:00,  1.48it/s]\n",
      "100%|██████████| 50/50 [00:33<00:00,  1.49it/s]\n",
      "100%|██████████| 50/50 [00:33<00:00,  1.49it/s]\n",
      "100%|██████████| 50/50 [00:33<00:00,  1.49it/s]\n",
      "100%|██████████| 50/50 [00:33<00:00,  1.48it/s]\n",
      "100%|██████████| 50/50 [00:33<00:00,  1.49it/s]\n",
      "100%|██████████| 50/50 [00:33<00:00,  1.50it/s]\n",
      "100%|██████████| 50/50 [00:33<00:00,  1.50it/s]\n",
      "100%|██████████| 50/50 [00:33<00:00,  1.50it/s]\n",
      "100%|██████████| 50/50 [00:33<00:00,  1.50it/s]\n",
      "100%|██████████| 50/50 [00:33<00:00,  1.50it/s]\n",
      "100%|██████████| 50/50 [00:33<00:00,  1.50it/s]\n",
      "100%|██████████| 50/50 [00:33<00:00,  1.50it/s]\n",
      "100%|██████████| 50/50 [00:33<00:00,  1.50it/s]\n",
      "100%|██████████| 50/50 [00:33<00:00,  1.50it/s]\n",
      "100%|██████████| 50/50 [00:33<00:00,  1.50it/s]\n",
      "100%|██████████| 50/50 [00:33<00:00,  1.50it/s]\n",
      "100%|██████████| 50/50 [00:33<00:00,  1.49it/s]\n",
      "100%|██████████| 50/50 [00:33<00:00,  1.49it/s]\n",
      "100%|██████████| 50/50 [00:33<00:00,  1.50it/s]\n",
      "100%|██████████| 50/50 [00:33<00:00,  1.50it/s]\n",
      "100%|██████████| 50/50 [00:33<00:00,  1.49it/s]\n",
      "100%|██████████| 50/50 [00:33<00:00,  1.50it/s]\n",
      "100%|██████████| 50/50 [00:33<00:00,  1.49it/s]\n",
      "100%|██████████| 50/50 [00:33<00:00,  1.49it/s]\n",
      "100%|██████████| 50/50 [00:33<00:00,  1.49it/s]\n",
      "100%|██████████| 50/50 [00:33<00:00,  1.50it/s]\n",
      "100%|██████████| 50/50 [00:33<00:00,  1.49it/s]\n",
      "100%|██████████| 50/50 [00:33<00:00,  1.50it/s]\n",
      "100%|██████████| 50/50 [00:33<00:00,  1.49it/s]\n",
      "100%|██████████| 50/50 [00:33<00:00,  1.49it/s]\n",
      "100%|██████████| 50/50 [00:33<00:00,  1.50it/s]\n",
      "100%|██████████| 50/50 [00:33<00:00,  1.50it/s]\n",
      "100%|██████████| 50/50 [00:33<00:00,  1.50it/s]\n",
      "100%|██████████| 50/50 [00:33<00:00,  1.50it/s]\n",
      "100%|██████████| 50/50 [00:33<00:00,  1.50it/s]\n",
      "100%|██████████| 36/36 [25:01<00:00, 41.71s/it]\n"
     ]
    }
   ],
   "source": [
    "generate_images(36,prompt='a car with rear flat tire.',output_dir='./Output/Flat-Tire-FID',start=37)"
   ]
  },
  {
   "cell_type": "code",
   "execution_count": 4,
   "metadata": {},
   "outputs": [
    {
     "name": "stderr",
     "output_type": "stream",
     "text": [
      "Loading pipeline components...: 100%|██████████| 7/7 [00:00<00:00,  9.21it/s]\n",
      "100%|██████████| 50/50 [00:34<00:00,  1.47it/s]\n",
      "100%|██████████| 50/50 [00:33<00:00,  1.48it/s]\n",
      "100%|██████████| 50/50 [00:33<00:00,  1.48it/s]\n",
      "100%|██████████| 50/50 [00:33<00:00,  1.48it/s]\n",
      "100%|██████████| 50/50 [00:33<00:00,  1.48it/s]\n",
      "100%|██████████| 50/50 [00:33<00:00,  1.48it/s]\n",
      "100%|██████████| 50/50 [00:33<00:00,  1.48it/s]\n",
      "100%|██████████| 50/50 [00:33<00:00,  1.48it/s]\n",
      "100%|██████████| 50/50 [00:33<00:00,  1.48it/s]\n",
      "100%|██████████| 50/50 [00:33<00:00,  1.48it/s]\n",
      "100%|██████████| 50/50 [00:33<00:00,  1.48it/s]\n",
      "100%|██████████| 50/50 [00:33<00:00,  1.48it/s]\n",
      "100%|██████████| 50/50 [00:33<00:00,  1.48it/s]\n",
      "100%|██████████| 50/50 [00:33<00:00,  1.48it/s]\n",
      "100%|██████████| 50/50 [00:33<00:00,  1.48it/s]\n",
      "100%|██████████| 50/50 [00:33<00:00,  1.48it/s]\n",
      "100%|██████████| 50/50 [00:33<00:00,  1.48it/s]\n",
      "100%|██████████| 50/50 [00:33<00:00,  1.48it/s]\n",
      "100%|██████████| 50/50 [00:33<00:00,  1.48it/s]\n",
      "100%|██████████| 50/50 [00:33<00:00,  1.48it/s]\n",
      "100%|██████████| 50/50 [00:33<00:00,  1.48it/s]\n",
      "100%|██████████| 50/50 [00:33<00:00,  1.48it/s]\n",
      "100%|██████████| 50/50 [00:33<00:00,  1.48it/s]\n",
      "100%|██████████| 50/50 [00:33<00:00,  1.48it/s]\n",
      "100%|██████████| 50/50 [00:33<00:00,  1.48it/s]\n",
      "100%|██████████| 50/50 [00:33<00:00,  1.48it/s]\n",
      "100%|██████████| 50/50 [00:33<00:00,  1.48it/s]\n",
      "100%|██████████| 50/50 [00:33<00:00,  1.48it/s]\n",
      "100%|██████████| 50/50 [00:33<00:00,  1.48it/s]\n",
      "100%|██████████| 50/50 [00:33<00:00,  1.48it/s]\n",
      "100%|██████████| 50/50 [00:33<00:00,  1.48it/s]\n",
      "100%|██████████| 50/50 [00:33<00:00,  1.48it/s]\n",
      "100%|██████████| 50/50 [00:33<00:00,  1.48it/s]\n",
      "100%|██████████| 50/50 [00:33<00:00,  1.48it/s]\n",
      "100%|██████████| 50/50 [00:33<00:00,  1.48it/s]\n",
      "100%|██████████| 50/50 [00:33<00:00,  1.48it/s]\n",
      "100%|██████████| 36/36 [25:12<00:00, 42.02s/it]\n"
     ]
    }
   ],
   "source": [
    "generate_images(36,prompt='a car with broken wheel and front flat tire.',output_dir='./Output/Flat-Tire-FID',start=73)"
   ]
  },
  {
   "cell_type": "code",
   "execution_count": 5,
   "metadata": {},
   "outputs": [
    {
     "name": "stderr",
     "output_type": "stream",
     "text": [
      "Loading pipeline components...: 100%|██████████| 7/7 [00:00<00:00, 10.12it/s]\n",
      "100%|██████████| 50/50 [00:33<00:00,  1.47it/s]\n",
      "100%|██████████| 50/50 [00:33<00:00,  1.48it/s]\n",
      "100%|██████████| 50/50 [00:33<00:00,  1.49it/s]\n",
      "100%|██████████| 50/50 [00:33<00:00,  1.49it/s]\n",
      "100%|██████████| 50/50 [00:33<00:00,  1.49it/s]\n",
      "100%|██████████| 50/50 [00:33<00:00,  1.49it/s]\n",
      "100%|██████████| 50/50 [00:33<00:00,  1.49it/s]\n",
      "100%|██████████| 50/50 [00:33<00:00,  1.49it/s]\n",
      "100%|██████████| 50/50 [00:33<00:00,  1.49it/s]\n",
      "100%|██████████| 50/50 [00:33<00:00,  1.49it/s]\n",
      "100%|██████████| 50/50 [00:33<00:00,  1.49it/s]\n",
      "100%|██████████| 50/50 [00:33<00:00,  1.49it/s]\n",
      "100%|██████████| 50/50 [00:33<00:00,  1.49it/s]\n",
      "100%|██████████| 50/50 [00:33<00:00,  1.49it/s]\n",
      "100%|██████████| 50/50 [00:33<00:00,  1.49it/s]\n",
      "100%|██████████| 50/50 [00:33<00:00,  1.49it/s]\n",
      "100%|██████████| 50/50 [00:33<00:00,  1.49it/s]\n",
      "100%|██████████| 50/50 [00:33<00:00,  1.49it/s]\n",
      "100%|██████████| 50/50 [00:33<00:00,  1.49it/s]\n",
      "100%|██████████| 50/50 [00:33<00:00,  1.49it/s]\n",
      "100%|██████████| 50/50 [00:33<00:00,  1.49it/s]\n",
      "100%|██████████| 50/50 [00:33<00:00,  1.49it/s]\n",
      "100%|██████████| 50/50 [00:33<00:00,  1.49it/s]\n",
      "100%|██████████| 50/50 [00:33<00:00,  1.49it/s]\n",
      "100%|██████████| 50/50 [00:33<00:00,  1.49it/s]\n",
      "100%|██████████| 50/50 [00:33<00:00,  1.49it/s]\n",
      "100%|██████████| 50/50 [00:33<00:00,  1.49it/s]\n",
      "100%|██████████| 50/50 [00:33<00:00,  1.49it/s]\n",
      "100%|██████████| 50/50 [00:33<00:00,  1.49it/s]\n",
      "100%|██████████| 50/50 [00:33<00:00,  1.49it/s]\n",
      "100%|██████████| 50/50 [00:33<00:00,  1.49it/s]\n",
      "100%|██████████| 50/50 [00:33<00:00,  1.49it/s]\n",
      "100%|██████████| 50/50 [00:33<00:00,  1.49it/s]\n",
      "100%|██████████| 50/50 [00:33<00:00,  1.49it/s]\n",
      "100%|██████████| 50/50 [00:33<00:00,  1.49it/s]\n",
      "100%|██████████| 50/50 [00:33<00:00,  1.49it/s]\n",
      "100%|██████████| 50/50 [00:33<00:00,  1.49it/s]\n",
      "100%|██████████| 50/50 [00:33<00:00,  1.49it/s]\n",
      "100%|██████████| 50/50 [00:33<00:00,  1.49it/s]\n",
      "100%|██████████| 50/50 [00:33<00:00,  1.49it/s]\n",
      "100%|██████████| 50/50 [00:33<00:00,  1.49it/s]\n",
      "100%|██████████| 50/50 [00:33<00:00,  1.49it/s]\n",
      "100%|██████████| 42/42 [29:21<00:00, 41.95s/it]\n"
     ]
    }
   ],
   "source": [
    "generate_images(42,prompt='a car with broken wheel and rear flat tire.',output_dir='./Output/Flat-Tire-FID',start=109)"
   ]
  },
  {
   "cell_type": "markdown",
   "metadata": {},
   "source": [
    "# Real Images"
   ]
  },
  {
   "cell_type": "code",
   "execution_count": 1,
   "metadata": {},
   "outputs": [],
   "source": [
    "from PIL import Image\n",
    "import os\n",
    "import numpy as np\n",
    "\n",
    "dataset_path = \"./Data/Flat Tire Images/\"\n",
    "image_paths = sorted([os.path.join(dataset_path, x) for x in os.listdir(dataset_path)])\n",
    "\n",
    "real_images = [np.array(Image.open(path).convert(\"RGB\")) for path in image_paths]"
   ]
  },
  {
   "cell_type": "code",
   "execution_count": 2,
   "metadata": {},
   "outputs": [
    {
     "name": "stdout",
     "output_type": "stream",
     "text": [
      "torch.Size([150, 3, 512, 512])\n"
     ]
    }
   ],
   "source": [
    "from torchvision.transforms import functional as F\n",
    "import torch\n",
    "\n",
    "\n",
    "def preprocess_image(image):\n",
    "    image = torch.tensor(image).unsqueeze(0)\n",
    "    image = image.permute(0, 3, 1, 2) / 255.0\n",
    "    return F.center_crop(image, (512, 512))\n",
    "\n",
    "real_images = torch.cat([preprocess_image(image) for image in real_images])\n",
    "print(real_images.shape)"
   ]
  },
  {
   "cell_type": "markdown",
   "metadata": {},
   "source": [
    "# Fake Images"
   ]
  },
  {
   "cell_type": "code",
   "execution_count": 3,
   "metadata": {},
   "outputs": [
    {
     "name": "stdout",
     "output_type": "stream",
     "text": [
      "torch.Size([150, 3, 512, 512])\n"
     ]
    }
   ],
   "source": [
    "dataset_path = \"./Output/Flat-Tire-FID/\"\n",
    "image_paths = sorted([os.path.join(dataset_path, x) for x in os.listdir(dataset_path)])\n",
    "\n",
    "fake_images = [np.array(Image.open(path).convert(\"RGB\")) for path in image_paths]\n",
    "\n",
    "fake_images = torch.cat([preprocess_image(image) for image in fake_images])\n",
    "print(fake_images.shape)"
   ]
  },
  {
   "cell_type": "code",
   "execution_count": 4,
   "metadata": {},
   "outputs": [
    {
     "name": "stderr",
     "output_type": "stream",
     "text": [
      "c:\\Users\\Raj\\AppData\\Local\\Programs\\Python\\Python312\\Lib\\site-packages\\tqdm\\auto.py:21: TqdmWarning: IProgress not found. Please update jupyter and ipywidgets. See https://ipywidgets.readthedocs.io/en/stable/user_install.html\n",
      "  from .autonotebook import tqdm as notebook_tqdm\n",
      "Downloading: \"https://github.com/toshas/torch-fidelity/releases/download/v0.2.0/weights-inception-2015-12-05-6726825d.pth\" to C:\\Users\\Raj/.cache\\torch\\hub\\checkpoints\\weights-inception-2015-12-05-6726825d.pth\n",
      "100%|██████████| 91.2M/91.2M [00:07<00:00, 12.1MB/s]\n"
     ]
    },
    {
     "name": "stdout",
     "output_type": "stream",
     "text": [
      "FID: 59.84452819824219\n"
     ]
    }
   ],
   "source": [
    "from torchmetrics.image.fid import FrechetInceptionDistance\n",
    "\n",
    "fid = FrechetInceptionDistance(normalize=True)\n",
    "fid.update(real_images, real=True)\n",
    "fid.update(fake_images, real=False)\n",
    "\n",
    "print(f\"FID: {float(fid.compute())}\")"
   ]
  },
  {
   "cell_type": "code",
   "execution_count": null,
   "metadata": {},
   "outputs": [],
   "source": []
  }
 ],
 "metadata": {
  "kernelspec": {
   "display_name": "Python 3",
   "language": "python",
   "name": "python3"
  },
  "language_info": {
   "codemirror_mode": {
    "name": "ipython",
    "version": 3
   },
   "file_extension": ".py",
   "mimetype": "text/x-python",
   "name": "python",
   "nbconvert_exporter": "python",
   "pygments_lexer": "ipython3",
   "version": "3.12.2"
  }
 },
 "nbformat": 4,
 "nbformat_minor": 2
}
